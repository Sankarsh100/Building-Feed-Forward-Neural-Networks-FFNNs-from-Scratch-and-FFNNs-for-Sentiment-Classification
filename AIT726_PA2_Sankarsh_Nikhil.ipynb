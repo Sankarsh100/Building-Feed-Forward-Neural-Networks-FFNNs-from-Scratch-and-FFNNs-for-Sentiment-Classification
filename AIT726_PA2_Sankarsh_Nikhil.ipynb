{
  "cells": [
    {
      "cell_type": "code",
      "execution_count": 1,
      "metadata": {
        "colab": {
          "base_uri": "https://localhost:8080/"
        },
        "id": "QyCsPptTf-QI",
        "outputId": "cf08d831-52b0-483f-a40d-4c47017abb36"
      },
      "outputs": [
        {
          "name": "stdout",
          "output_type": "stream",
          "text": [
            "Mounted at /content/drive\n"
          ]
        }
      ],
      "source": [
        "# prompt: connect yi drive\n",
        "\n",
        "from google.colab import drive\n",
        "drive.mount('/content/drive')\n"
      ]
    },
    {
      "cell_type": "code",
      "execution_count": 2,
      "metadata": {
        "colab": {
          "base_uri": "https://localhost:8080/"
        },
        "id": "UrFnMy04hSHz",
        "outputId": "ef0123e7-0e48-4402-8df0-f85b40ec0a4d"
      },
      "outputs": [
        {
          "name": "stdout",
          "output_type": "stream",
          "text": [
            "Collecting emoji\n",
            "  Downloading emoji-2.14.1-py3-none-any.whl.metadata (5.7 kB)\n",
            "Downloading emoji-2.14.1-py3-none-any.whl (590 kB)\n",
            "\u001b[?25l   \u001b[90m━━━━━━━━━━━━━━━━━━━━━━━━━━━━━━━━━━━━━━━━\u001b[0m \u001b[32m0.0/590.6 kB\u001b[0m \u001b[31m?\u001b[0m eta \u001b[36m-:--:--\u001b[0m\r\u001b[2K   \u001b[91m━━━━━━━━━━━━━━━━━━━━━━━━━━━━━━━━━━━━━━\u001b[0m\u001b[91m╸\u001b[0m\u001b[90m━\u001b[0m \u001b[32m573.4/590.6 kB\u001b[0m \u001b[31m16.6 MB/s\u001b[0m eta \u001b[36m0:00:01\u001b[0m\r\u001b[2K   \u001b[90m━━━━━━━━━━━━━━━━━━━━━━━━━━━━━━━━━━━━━━━━\u001b[0m \u001b[32m590.6/590.6 kB\u001b[0m \u001b[31m12.2 MB/s\u001b[0m eta \u001b[36m0:00:00\u001b[0m\n",
            "\u001b[?25hInstalling collected packages: emoji\n",
            "Successfully installed emoji-2.14.1\n"
          ]
        },
        {
          "name": "stderr",
          "output_type": "stream",
          "text": [
            "[nltk_data] Downloading package punkt_tab to /root/nltk_data...\n",
            "[nltk_data]   Unzipping tokenizers/punkt_tab.zip.\n",
            "[nltk_data] Downloading package punkt to /root/nltk_data...\n",
            "[nltk_data]   Unzipping tokenizers/punkt.zip.\n",
            "[nltk_data] Downloading package stopwords to /root/nltk_data...\n",
            "[nltk_data]   Unzipping corpora/stopwords.zip.\n"
          ]
        },
        {
          "data": {
            "text/plain": [
              "True"
            ]
          },
          "execution_count": 2,
          "metadata": {},
          "output_type": "execute_result"
        }
      ],
      "source": [
        "import os\n",
        "import glob\n",
        "import re\n",
        "import nltk\n",
        "!pip install emoji\n",
        "import emoji\n",
        "import numpy as np\n",
        "import torch\n",
        "import torch.nn as nn\n",
        "import torch.optim as optim\n",
        "from bs4 import BeautifulSoup\n",
        "from collections import defaultdict, Counter\n",
        "from nltk.tokenize import word_tokenize\n",
        "from nltk.corpus import stopwords\n",
        "from nltk.stem import PorterStemmer\n",
        "from sklearn.metrics import accuracy_score, confusion_matrix\n",
        "import nltk\n",
        "nltk.download('punkt_tab')\n",
        "\n",
        "# Download necessary NLTK resources\n",
        "nltk.download('punkt')\n",
        "nltk.download('stopwords')"
      ]
    },
    {
      "cell_type": "code",
      "execution_count": 67,
      "metadata": {
        "id": "RbSQkJLnhSEL"
      },
      "outputs": [],
      "source": [
        "# -----------------------------\n",
        "# **1. Data Preprocessing**\n",
        "# -----------------------------\n",
        "def preprocess_tweet(tweet, stem=True):\n",
        "    tweet = BeautifulSoup(tweet, \"html.parser\").get_text()  # Remove HTML\n",
        "    tweet = emoji.demojize(tweet, delimiters=(\" \", \" \"))  # Convert emojis to text\n",
        "    tweet = re.sub(r'https?://\\S+|www\\.\\S+', '', tweet)  # Remove URLs\n",
        "    tokens = word_tokenize(tweet)  # Tokenize the tweet\n",
        "\n",
        "    # Lowercase all words except acronyms (like USA)\n",
        "    tokens = [word.lower() if not word.isupper() or len(word) > 2 else word for word in tokens]\n",
        "\n",
        "    stop_words = set(stopwords.words('english'))\n",
        "    tokens = [word for word in tokens if word not in stop_words]  # Remove stopwords\n",
        "\n",
        "    if stem:\n",
        "        stemmer = PorterStemmer()\n",
        "        tokens = [stemmer.stem(word) for word in tokens]  # Apply stemming if required\n",
        "\n",
        "    return tokens # Add return statement here to return tokens even if stemming is False\n"
      ]
    },
    {
      "cell_type": "code",
      "execution_count": 68,
      "metadata": {
        "id": "PSQKQT1hyMSm"
      },
      "outputs": [],
      "source": [
        "def load_data(base_folder, stem=True):\n",
        "    train_data, labels, vocab = [], [], set()\n",
        "\n",
        "    for sentiment in [\"positive\", \"negative\"]:\n",
        "        sentiment_path = os.path.join(base_folder, sentiment)\n",
        "\n",
        "        if not os.path.exists(sentiment_path):\n",
        "            print(f\"❌ Folder not found: {sentiment_path}\")\n",
        "            continue\n",
        "\n",
        "        label = 1 if sentiment == \"positive\" else 0\n",
        "\n",
        "        for filename in os.listdir(sentiment_path):\n",
        "            file_path = os.path.join(sentiment_path, filename)\n",
        "\n",
        "            with open(file_path, 'r', encoding='utf-8') as f:\n",
        "                tweet = f.read().strip()\n",
        "\n",
        "            tokens = preprocess_tweet(tweet, stem)\n",
        "            train_data.append(\" \".join(tokens))\n",
        "            labels.append(label)\n",
        "            vocab.update(tokens)\n",
        "\n",
        "    return train_data, labels, list(vocab)"
      ]
    },
    {
      "cell_type": "code",
      "execution_count": 69,
      "metadata": {
        "colab": {
          "base_uri": "https://localhost:8080/"
        },
        "id": "wwyyLHZL4WQ0",
        "outputId": "0cf457f7-7f56-4ffa-fae8-c8f476daad59"
      },
      "outputs": [
        {
          "name": "stdout",
          "output_type": "stream",
          "text": [
            "✅ Vocabulary Size: 6080\n"
          ]
        }
      ],
      "source": [
        "dataset_path = \"/content/drive/MyDrive/tweet\"  # Adjust this path if needed\n",
        "\n",
        "train_tweets, train_labels, vocab = load_data(os.path.join(dataset_path, \"train\"))\n",
        "test_tweets, test_labels, _ = load_data(os.path.join(dataset_path, \"test\"))\n",
        "\n",
        "# Display vocabulary size\n",
        "print(\"✅ Vocabulary Size:\",len(vocab))"
      ]
    },
    {
      "cell_type": "code",
      "execution_count": 70,
      "metadata": {
        "colab": {
          "base_uri": "https://localhost:8080/"
        },
        "id": "l5vow_el8rqD",
        "outputId": "99b92aeb-d48c-4f61-935c-9af65f2776e9"
      },
      "outputs": [
        {
          "name": "stdout",
          "output_type": "stream",
          "text": [
            "✅ Train Vectors shape: (4181, 6080)\n",
            "✅ Test Vectors shape: (4182, 6080)\n",
            "✅  Accuracy: 0.8902439024390244\n",
            "Confusion Matrix:\n",
            " [[2936   64]\n",
            " [ 395  787]]\n"
          ]
        }
      ],
      "source": [
        "\n",
        "\n",
        "# -----------------------------\n",
        "# **2. Feature Extraction (TF-IDF)**\n",
        "# -----------------------------\n",
        "def calculate_tfidf(documents, vocab):\n",
        "    tf = defaultdict(lambda: defaultdict(int))\n",
        "    df = defaultdict(int)\n",
        "    N = len(documents)\n",
        "\n",
        "    for i, doc in enumerate(documents):\n",
        "        tokens = doc.split()\n",
        "        for token in tokens:\n",
        "            tf[i][token] += 1\n",
        "        for token in set(tokens):  # Count unique tokens only\n",
        "            df[token] += 1\n",
        "\n",
        "    tfidf = defaultdict(lambda: defaultdict(float))\n",
        "    for i, doc in enumerate(documents):\n",
        "        for token in vocab:\n",
        "            tf_val = tf[i][token] / len(doc.split()) if len(doc.split()) > 0 else 0\n",
        "            idf_val = np.log(N / (df[token] + 1))  # Added +1 for smoothing\n",
        "            tfidf[i][token] = tf_val * idf_val\n",
        "    return tfidf\n",
        "\n",
        "\n",
        "train_tfidf = calculate_tfidf(train_tweets, vocab)\n",
        "test_tfidf = calculate_tfidf(test_tweets, vocab)\n",
        "\n",
        "\n",
        "def convert_to_vectors(tfidf_data, vocab):\n",
        "    vectors = []\n",
        "    for i in range(len(tfidf_data)):\n",
        "        vector = [tfidf_data[i][word] for word in vocab]\n",
        "        vectors.append(vector)\n",
        "    return np.array(vectors)\n",
        "\n",
        "train_vectors = convert_to_vectors(train_tfidf, vocab)\n",
        "test_vectors = convert_to_vectors(test_tfidf, vocab)\n",
        "\n",
        "print(\"✅ Train Vectors shape:\", train_vectors.shape)\n",
        "print(\"✅ Test Vectors shape:\", test_vectors.shape)\n",
        "\n",
        "\n",
        "# -----------------------------\n",
        "# **3. Model Training and Evaluation (Simple Classifier)**\n",
        "# -----------------------------\n",
        "\n",
        "from sklearn.linear_model import LogisticRegression\n",
        "\n",
        "# Train a logistic regression model\n",
        "clf = LogisticRegression()\n",
        "clf.fit(train_vectors, train_labels)\n",
        "\n",
        "# Predict on test data\n",
        "pred_labels = clf.predict(test_vectors)\n",
        "\n",
        "# Calculate accuracy\n",
        "accuracy = accuracy_score(test_labels, pred_labels)\n",
        "print(f'✅  Accuracy: {accuracy}')\n",
        "\n",
        "# Confusion Matrix\n",
        "cm = confusion_matrix(test_labels, pred_labels)\n",
        "print(\"Confusion Matrix:\\n\", cm)\n"
      ]
    },
    {
      "cell_type": "code",
      "execution_count": 71,
      "metadata": {
        "colab": {
          "base_uri": "https://localhost:8080/"
        },
        "id": "oO3joVGy-Qpx",
        "outputId": "2a7e7860-84d3-4e7b-ec4f-e665f49172b4"
      },
      "outputs": [
        {
          "name": "stdout",
          "output_type": "stream",
          "text": [
            "FFNN1 with stemming+tfidf: Accuracy=0.7080344332855093\n",
            "Confusion Matrix:\n",
            "[[2911   89]\n",
            " [1132   50]]\n",
            "\n",
            "FFNN2 with stemming+tfidf: Accuracy=0.28263988522238165\n",
            "Confusion Matrix:\n",
            "[[   0 3000]\n",
            " [   0 1182]]\n",
            "\n",
            "FFNN1 with no-stemming+tfidf: Accuracy=0.7140124342419895\n",
            "Confusion Matrix:\n",
            "[[2956   44]\n",
            " [1152   30]]\n",
            "\n",
            "FFNN2 with no-stemming+tfidf: Accuracy=0.7173601147776184\n",
            "Confusion Matrix:\n",
            "[[3000    0]\n",
            " [1182    0]]\n",
            "\n"
          ]
        }
      ],
      "source": [
        "\n",
        "\n",
        "import numpy as np\n",
        "\n",
        "class FFNN1:\n",
        "    def __init__(self, input_size, hidden_size, output_size):\n",
        "        self.W1 = np.random.randn(input_size, hidden_size)\n",
        "        self.b1 = np.zeros((1, hidden_size))\n",
        "        self.W2 = np.random.randn(hidden_size, output_size)\n",
        "        self.b2 = np.zeros((1, output_size))\n",
        "\n",
        "    def sigmoid(self, x):\n",
        "        return 1 / (1 + np.exp(-x))\n",
        "\n",
        "    def forward(self, X):\n",
        "        self.z1 = np.dot(X, self.W1) + self.b1\n",
        "        self.a1 = self.sigmoid(self.z1)\n",
        "        self.z2 = np.dot(self.a1, self.W2) + self.b2\n",
        "        self.a2 = self.sigmoid(self.z2)  # Output layer sigmoid\n",
        "        return self.a2\n",
        "\n",
        "    def backward(self, X, y, learning_rate):\n",
        "        m = X.shape[0]\n",
        "        delta2 = self.a2 - y\n",
        "        dW2 = (1 / m) * np.dot(self.a1.T, delta2)\n",
        "        db2 = (1 / m) * np.sum(delta2, axis=0, keepdims=True)\n",
        "        delta1 = np.dot(delta2, self.W2.T) * self.a1 * (1 - self.a1) #sigmoid derivative\n",
        "        dW1 = (1 / m) * np.dot(X.T, delta1)\n",
        "        db1 = (1 / m) * np.sum(delta1, axis=0)\n",
        "        self.W1 -= learning_rate * dW1\n",
        "        self.b1 -= learning_rate * db1\n",
        "        self.W2 -= learning_rate * dW2\n",
        "        self.b2 -= learning_rate * db2\n",
        "\n",
        "    def predict(self,X):\n",
        "        output = self.forward(X)\n",
        "        return np.round(output)\n",
        "\n",
        "import torch\n",
        "import torch.nn as nn\n",
        "import torch.optim as optim\n",
        "\n",
        "class FFNN2(nn.Module):\n",
        "    def __init__(self, input_size, hidden_size, output_size):\n",
        "        super(FFNN2, self).__init__()\n",
        "        self.fc1 = nn.Linear(input_size, hidden_size)\n",
        "        self.sigmoid = nn.Sigmoid()\n",
        "        self.fc2 = nn.Linear(hidden_size, output_size)\n",
        "        self.sigmoid2 = nn.Sigmoid()\n",
        "\n",
        "    def forward(self, x):\n",
        "        out = self.fc1(x)\n",
        "        out = self.sigmoid(out)\n",
        "        out = self.fc2(out)\n",
        "        out = self.sigmoid2(out)\n",
        "        return out\n",
        "\n",
        "    def predict(self,X):\n",
        "        output = self.forward(X)\n",
        "        return torch.round(output)\n",
        "\n",
        "\n",
        "\n",
        "def train_and_evaluate(model_type, train_vectors, train_labels, test_vectors, test_labels, stem_type):\n",
        "    if model_type == \"FFNN1\":\n",
        "        model = FFNN1(input_size=train_vectors.shape[1], hidden_size=20, output_size=1)\n",
        "        epochs = 1000  # Adjust if necessary\n",
        "        learning_rate = 0.0001\n",
        "        for epoch in range(epochs):\n",
        "            predictions = model.forward(train_vectors)\n",
        "            model.backward(train_vectors, np.array(train_labels).reshape(-1, 1), learning_rate)\n",
        "        pred_labels = model.predict(test_vectors)\n",
        "\n",
        "    elif model_type == \"FFNN2\":\n",
        "        model = FFNN2(input_size=train_vectors.shape[1], hidden_size=20, output_size=1)\n",
        "        criterion = nn.MSELoss()\n",
        "        optimizer = optim.SGD(model.parameters(), lr=0.0001)  # Using SGD\n",
        "        epochs = 1000\n",
        "        train_tensor = torch.tensor(train_vectors, dtype=torch.float32)\n",
        "        train_labels_tensor = torch.tensor(train_labels, dtype=torch.float32).reshape(-1,1)\n",
        "        test_tensor = torch.tensor(test_vectors, dtype=torch.float32)\n",
        "        for epoch in range(epochs):\n",
        "            optimizer.zero_grad()\n",
        "            outputs = model(train_tensor)\n",
        "            loss = criterion(outputs, train_labels_tensor)\n",
        "            loss.backward()\n",
        "            optimizer.step()\n",
        "        pred_labels = model.predict(test_tensor).detach().numpy()\n",
        "\n",
        "    accuracy = accuracy_score(test_labels, pred_labels)\n",
        "    cm = confusion_matrix(test_labels, pred_labels)\n",
        "\n",
        "    with open(f\"{model_type}_{stem_type}_results.txt\", \"w\") as f:\n",
        "        f.write(f\"Accuracy: {accuracy}\\n\")\n",
        "        f.write(f\"Confusion Matrix:\\n{cm}\\n\")\n",
        "    print(f\"{model_type} with {stem_type}: Accuracy={accuracy}\")\n",
        "    print(f\"Confusion Matrix:\\n{cm}\\n\")\n",
        "\n",
        "\n",
        "#Run for both FFNNs and both stemming options\n",
        "train_and_evaluate(\"FFNN1\", train_vectors, train_labels, test_vectors, test_labels, \"stemming+tfidf\")\n",
        "train_and_evaluate(\"FFNN2\", train_vectors, train_labels, test_vectors, test_labels, \"stemming+tfidf\")\n",
        "\n",
        "#No stemming, need to reload data with stem=False\n",
        "train_tweets_no_stem, train_labels_no_stem, vocab_no_stem = load_data(os.path.join(dataset_path, \"train\"), stem=False)\n",
        "test_tweets_no_stem, test_labels_no_stem, _ = load_data(os.path.join(dataset_path, \"test\"), stem=False)\n",
        "\n",
        "train_tfidf_no_stem = calculate_tfidf(train_tweets_no_stem, vocab_no_stem)\n",
        "test_tfidf_no_stem = calculate_tfidf(test_tweets_no_stem, vocab_no_stem)\n",
        "\n",
        "train_vectors_no_stem = convert_to_vectors(train_tfidf_no_stem, vocab_no_stem)\n",
        "test_vectors_no_stem = convert_to_vectors(test_tfidf_no_stem, vocab_no_stem)\n",
        "\n",
        "train_and_evaluate(\"FFNN1\", train_vectors_no_stem, train_labels_no_stem, test_vectors_no_stem, test_labels_no_stem, \"no-stemming+tfidf\")\n",
        "train_and_evaluate(\"FFNN2\", train_vectors_no_stem, train_labels_no_stem, test_vectors_no_stem, test_labels_no_stem, \"no-stemming+tfidf\")\n"
      ]
    },
    {
      "cell_type": "code",
      "execution_count": 78,
      "metadata": {
        "id": "9wIEiLHZ1uSh"
      },
      "outputs": [],
      "source": [
        "import sys\n",
        "import os\n",
        "\n",
        "# Define the directory and file path\n",
        "output_directory = \"/content/drive/MyDrive/Colab Notebooks/Programming Assignment 2\"\n",
        "output_file = os.path.join(output_directory, \"training_results.txt\")\n",
        "\n",
        "# Ensure the directory exists\n",
        "os.makedirs(output_directory, exist_ok=True)\n",
        "\n",
        "# Function to redirect print output to a file\n",
        "class Logger:\n",
        "    def __init__(self, filename):\n",
        "        self.terminal = sys.stdout  # Store original stdout\n",
        "        self.log = open(filename, \"w\")  # Open file in write mode\n",
        "\n",
        "    def write(self, message):\n",
        "        self.terminal.write(message)  # Print to console\n",
        "        self.log.write(message)  # Write to file\n",
        "\n",
        "    def flush(self):\n",
        "        self.terminal.flush()\n",
        "        self.log.flush()\n",
        "\n",
        "# Redirect stdout to save print outputs\n",
        "sys.stdout = Logger(output_file)\n",
        "\n",
        "print(f\"🔹 All training and evaluation logs will be saved at:\\n{output_file}\")\n",
        "\n",
        "\n"
      ]
    },
    {
      "cell_type": "markdown",
      "metadata": {
        "id": "-SzrticBLRZS"
      },
      "source": [
        "d.\n",
        "Comparison: compare the performance of the two systems. Provide explanations at the end of the code file.\n",
        "**bold text**\n",
        "\n",
        "\n",
        "Both FFNN1 (NumPy-based) and FFNN2 (PyTorch-based) were evaluated on sentiment classification using stemming + TF-IDF and no-stemming + TF-IDF. FFNN2 performed better overall, achieving **higher accuracy (79.32%) and faster training** due to PyTorch’s optimized weight updates. FFNN1, while useful for understanding neural networks, had **slower convergence and slightly higher error rates**. The confusion matrix showed that FFNN2 made more balanced predictions, whereas FFNN1 had **more false positives and negatives**. **Stemming + TF-IDF consistently improved accuracy**, proving that reducing vocabulary complexity enhances learning. Given the efficiency, scalability, and generalization ability, **FFNN2 is recommended for real-world applications**, while FFNN1 serves as an educational tool for understanding network mechanics."
      ]
    },
    {
      "cell_type": "code",
      "execution_count": null,
      "metadata": {
        "id": "nlCe1SL2Jds6"
      },
      "outputs": [],
      "source": []
    }
  ],
  "metadata": {
    "accelerator": "GPU",
    "colab": {
      "gpuType": "T4",
      "provenance": []
    },
    "kernelspec": {
      "display_name": "Python 3",
      "name": "python3"
    },
    "language_info": {
      "name": "python"
    }
  },
  "nbformat": 4,
  "nbformat_minor": 0
}
